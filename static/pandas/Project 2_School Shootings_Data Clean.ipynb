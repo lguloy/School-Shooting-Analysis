{
 "cells": [
  {
   "cell_type": "code",
   "execution_count": 15,
   "metadata": {},
   "outputs": [
    {
     "name": "stdout",
     "output_type": "stream",
     "text": [
      "Requirement already satisfied: pymongo in /Users/doraamoako/opt/anaconda3/lib/python3.8/site-packages (3.11.4)\n",
      "Note: you may need to restart the kernel to use updated packages.\n"
     ]
    }
   ],
   "source": [
    "pip install pymongo"
   ]
  },
  {
   "cell_type": "code",
   "execution_count": 16,
   "metadata": {},
   "outputs": [],
   "source": [
    "import pandas as pd\n",
    "from datetime import datetime as dt\n",
    "import os\n",
    "import datetime as dt\n",
    "import numpy as np\n",
    "import pymongo"
   ]
  },
  {
   "cell_type": "code",
   "execution_count": 17,
   "metadata": {},
   "outputs": [],
   "source": [
    "conn = 'mongodb://localhost:27017'\n",
    "client = pymongo.MongoClient(conn)"
   ]
  },
  {
   "cell_type": "code",
   "execution_count": 18,
   "metadata": {},
   "outputs": [],
   "source": [
    "db = client.Project2_Data\n",
    "collection = db.pah_wikp_combo"
   ]
  },
  {
   "cell_type": "code",
   "execution_count": 19,
   "metadata": {},
   "outputs": [
    {
     "data": {
      "text/html": [
       "<div>\n",
       "<style scoped>\n",
       "    .dataframe tbody tr th:only-of-type {\n",
       "        vertical-align: middle;\n",
       "    }\n",
       "\n",
       "    .dataframe tbody tr th {\n",
       "        vertical-align: top;\n",
       "    }\n",
       "\n",
       "    .dataframe thead th {\n",
       "        text-align: right;\n",
       "    }\n",
       "</style>\n",
       "<table border=\"1\" class=\"dataframe\">\n",
       "  <thead>\n",
       "    <tr style=\"text-align: right;\">\n",
       "      <th></th>\n",
       "      <th>_id</th>\n",
       "      <th>Date</th>\n",
       "      <th>City</th>\n",
       "      <th>State</th>\n",
       "      <th>School</th>\n",
       "      <th>Fatalities</th>\n",
       "      <th>Wounded</th>\n",
       "      <th>Source</th>\n",
       "      <th>Desc</th>\n",
       "      <th>AreaType</th>\n",
       "      <th>Dupe</th>\n",
       "    </tr>\n",
       "  </thead>\n",
       "  <tbody>\n",
       "    <tr>\n",
       "      <th>0</th>\n",
       "      <td>60b6752c53b349320143d2dc</td>\n",
       "      <td>3/27/1990</td>\n",
       "      <td>Brooklyn</td>\n",
       "      <td>New York</td>\n",
       "      <td>C</td>\n",
       "      <td>0</td>\n",
       "      <td>1</td>\n",
       "      <td>Wikp</td>\n",
       "      <td>A black youth was taunted with racial slurs by...</td>\n",
       "      <td>NaN</td>\n",
       "      <td>NaN</td>\n",
       "    </tr>\n",
       "    <tr>\n",
       "      <th>1</th>\n",
       "      <td>60b6752c53b349320143d2dd</td>\n",
       "      <td>5/20/1990</td>\n",
       "      <td>Centerville</td>\n",
       "      <td>Tennessee</td>\n",
       "      <td>HS</td>\n",
       "      <td>1</td>\n",
       "      <td>NaN</td>\n",
       "      <td>Pah</td>\n",
       "      <td>NaN</td>\n",
       "      <td>suburban</td>\n",
       "      <td>NaN</td>\n",
       "    </tr>\n",
       "    <tr>\n",
       "      <th>2</th>\n",
       "      <td>60b6752c53b349320143d2de</td>\n",
       "      <td>8/26/1990</td>\n",
       "      <td>Las Vegas</td>\n",
       "      <td>Nevada</td>\n",
       "      <td>HS</td>\n",
       "      <td>1</td>\n",
       "      <td>NaN</td>\n",
       "      <td>Pah</td>\n",
       "      <td>NaN</td>\n",
       "      <td>urban</td>\n",
       "      <td>NaN</td>\n",
       "    </tr>\n",
       "    <tr>\n",
       "      <th>3</th>\n",
       "      <td>60b6752c53b349320143d2df</td>\n",
       "      <td>9/11/1990</td>\n",
       "      <td>San Antonio</td>\n",
       "      <td>Texas</td>\n",
       "      <td>HS</td>\n",
       "      <td>0</td>\n",
       "      <td>3</td>\n",
       "      <td>Wikp</td>\n",
       "      <td>3 students were wounded when gunfire broke out...</td>\n",
       "      <td>NaN</td>\n",
       "      <td>NaN</td>\n",
       "    </tr>\n",
       "    <tr>\n",
       "      <th>4</th>\n",
       "      <td>60b6752c53b349320143d2e0</td>\n",
       "      <td>1/8/1991</td>\n",
       "      <td>Richardson</td>\n",
       "      <td>Texas</td>\n",
       "      <td>HS</td>\n",
       "      <td>0</td>\n",
       "      <td>NaN</td>\n",
       "      <td>Pah</td>\n",
       "      <td>NaN</td>\n",
       "      <td>urban</td>\n",
       "      <td>NaN</td>\n",
       "    </tr>\n",
       "  </tbody>\n",
       "</table>\n",
       "</div>"
      ],
      "text/plain": [
       "                        _id       Date         City      State School  \\\n",
       "0  60b6752c53b349320143d2dc  3/27/1990     Brooklyn   New York      C   \n",
       "1  60b6752c53b349320143d2dd  5/20/1990  Centerville  Tennessee     HS   \n",
       "2  60b6752c53b349320143d2de  8/26/1990    Las Vegas     Nevada     HS   \n",
       "3  60b6752c53b349320143d2df  9/11/1990  San Antonio      Texas     HS   \n",
       "4  60b6752c53b349320143d2e0   1/8/1991   Richardson      Texas     HS   \n",
       "\n",
       "  Fatalities Wounded Source  \\\n",
       "0          0       1   Wikp   \n",
       "1          1     NaN    Pah   \n",
       "2          1     NaN    Pah   \n",
       "3          0       3   Wikp   \n",
       "4          0     NaN    Pah   \n",
       "\n",
       "                                                Desc  AreaType Dupe  \n",
       "0  A black youth was taunted with racial slurs by...       NaN  NaN  \n",
       "1                                                NaN  suburban  NaN  \n",
       "2                                                NaN     urban  NaN  \n",
       "3  3 students were wounded when gunfire broke out...       NaN  NaN  \n",
       "4                                                NaN     urban  NaN  "
      ]
     },
     "execution_count": 19,
     "metadata": {},
     "output_type": "execute_result"
    }
   ],
   "source": [
    "data = pd.DataFrame(list(collection.find()))\n",
    "data.head()"
   ]
  },
  {
   "cell_type": "code",
   "execution_count": 20,
   "metadata": {},
   "outputs": [
    {
     "data": {
      "text/plain": [
       "array(['New York', 'Tennessee', 'Nevada', 'Texas', 'California', 'Iowa',\n",
       "       'Ohio', 'Nebraska', 'Arizona', 'Michigan', 'Illinois', 'Alabama',\n",
       "       'Massachusetts', 'Pennsylvania', 'Florida', 'Kentucky',\n",
       "       'Washington', 'Georgia', 'Minnesota', 'District of Columbia',\n",
       "       'Missouri', 'North Carolina', 'Louisiana', 'Utah', 'Wyoming',\n",
       "       'Delaware', 'Connecticut', 'Mississippi', 'Wisconsin',\n",
       "       'South Carolina', 'Montana', 'Kansas', 'D.C.', 'Arkansas',\n",
       "       'Indiana', 'Oklahoma', 'Alaska', 'Oregon', 'Virginia', 'Idaho',\n",
       "       'Colorado', 'New Mexico', 'Maryland', 'New Jersey',\n",
       "       'District Of Columbia', 'Virgin Islands', 'Vermont',\n",
       "       'West Virginia', 'Maine', 'Hawaii', 'New Hampshire',\n",
       "       'South Dakota', 'IA', 'Rhode Island'], dtype=object)"
      ]
     },
     "execution_count": 20,
     "metadata": {},
     "output_type": "execute_result"
    }
   ],
   "source": [
    "data.State.unique()"
   ]
  },
  {
   "cell_type": "code",
   "execution_count": 21,
   "metadata": {},
   "outputs": [],
   "source": [
    "data['State'] = data['State']. replace(['IA','D.C.'],['Iowa','District of Columbia'])"
   ]
  },
  {
   "cell_type": "code",
   "execution_count": 22,
   "metadata": {},
   "outputs": [],
   "source": [
    "data.drop(data.index[(data[\"State\"] == \"Virgin Islands\")],axis=0,inplace=True)"
   ]
  },
  {
   "cell_type": "code",
   "execution_count": 23,
   "metadata": {},
   "outputs": [
    {
     "data": {
      "text/plain": [
       "array(['New York', 'Tennessee', 'Nevada', 'Texas', 'California', 'Iowa',\n",
       "       'Ohio', 'Nebraska', 'Arizona', 'Michigan', 'Illinois', 'Alabama',\n",
       "       'Massachusetts', 'Pennsylvania', 'Florida', 'Kentucky',\n",
       "       'Washington', 'Georgia', 'Minnesota', 'District of Columbia',\n",
       "       'Missouri', 'North Carolina', 'Louisiana', 'Utah', 'Wyoming',\n",
       "       'Delaware', 'Connecticut', 'Mississippi', 'Wisconsin',\n",
       "       'South Carolina', 'Montana', 'Kansas', 'Arkansas', 'Indiana',\n",
       "       'Oklahoma', 'Alaska', 'Oregon', 'Virginia', 'Idaho', 'Colorado',\n",
       "       'New Mexico', 'Maryland', 'New Jersey', 'District Of Columbia',\n",
       "       'Vermont', 'West Virginia', 'Maine', 'Hawaii', 'New Hampshire',\n",
       "       'South Dakota', 'Rhode Island'], dtype=object)"
      ]
     },
     "execution_count": 23,
     "metadata": {},
     "output_type": "execute_result"
    }
   ],
   "source": [
    "data.State.unique()"
   ]
  },
  {
   "cell_type": "code",
   "execution_count": 24,
   "metadata": {},
   "outputs": [
    {
     "data": {
      "text/plain": [
       "51"
      ]
     },
     "execution_count": 24,
     "metadata": {},
     "output_type": "execute_result"
    }
   ],
   "source": [
    "data.State.nunique()"
   ]
  },
  {
   "cell_type": "code",
   "execution_count": 25,
   "metadata": {},
   "outputs": [],
   "source": [
    "del data['Source']\n",
    "del data['Dupe']\n",
    "del data['_id']"
   ]
  },
  {
   "cell_type": "code",
   "execution_count": 26,
   "metadata": {},
   "outputs": [
    {
     "data": {
      "text/html": [
       "<div>\n",
       "<style scoped>\n",
       "    .dataframe tbody tr th:only-of-type {\n",
       "        vertical-align: middle;\n",
       "    }\n",
       "\n",
       "    .dataframe tbody tr th {\n",
       "        vertical-align: top;\n",
       "    }\n",
       "\n",
       "    .dataframe thead th {\n",
       "        text-align: right;\n",
       "    }\n",
       "</style>\n",
       "<table border=\"1\" class=\"dataframe\">\n",
       "  <thead>\n",
       "    <tr style=\"text-align: right;\">\n",
       "      <th></th>\n",
       "      <th>Date</th>\n",
       "      <th>City</th>\n",
       "      <th>State</th>\n",
       "      <th>School</th>\n",
       "      <th>Fatalities</th>\n",
       "      <th>Wounded</th>\n",
       "      <th>Desc</th>\n",
       "      <th>AreaType</th>\n",
       "    </tr>\n",
       "  </thead>\n",
       "  <tbody>\n",
       "    <tr>\n",
       "      <th>0</th>\n",
       "      <td>3/27/1990</td>\n",
       "      <td>Brooklyn</td>\n",
       "      <td>New York</td>\n",
       "      <td>C</td>\n",
       "      <td>0</td>\n",
       "      <td>1</td>\n",
       "      <td>A black youth was taunted with racial slurs by...</td>\n",
       "      <td>NaN</td>\n",
       "    </tr>\n",
       "    <tr>\n",
       "      <th>1</th>\n",
       "      <td>5/20/1990</td>\n",
       "      <td>Centerville</td>\n",
       "      <td>Tennessee</td>\n",
       "      <td>HS</td>\n",
       "      <td>1</td>\n",
       "      <td>NaN</td>\n",
       "      <td>NaN</td>\n",
       "      <td>suburban</td>\n",
       "    </tr>\n",
       "    <tr>\n",
       "      <th>2</th>\n",
       "      <td>8/26/1990</td>\n",
       "      <td>Las Vegas</td>\n",
       "      <td>Nevada</td>\n",
       "      <td>HS</td>\n",
       "      <td>1</td>\n",
       "      <td>NaN</td>\n",
       "      <td>NaN</td>\n",
       "      <td>urban</td>\n",
       "    </tr>\n",
       "    <tr>\n",
       "      <th>3</th>\n",
       "      <td>9/11/1990</td>\n",
       "      <td>San Antonio</td>\n",
       "      <td>Texas</td>\n",
       "      <td>HS</td>\n",
       "      <td>0</td>\n",
       "      <td>3</td>\n",
       "      <td>3 students were wounded when gunfire broke out...</td>\n",
       "      <td>NaN</td>\n",
       "    </tr>\n",
       "    <tr>\n",
       "      <th>4</th>\n",
       "      <td>1/8/1991</td>\n",
       "      <td>Richardson</td>\n",
       "      <td>Texas</td>\n",
       "      <td>HS</td>\n",
       "      <td>0</td>\n",
       "      <td>NaN</td>\n",
       "      <td>NaN</td>\n",
       "      <td>urban</td>\n",
       "    </tr>\n",
       "    <tr>\n",
       "      <th>...</th>\n",
       "      <td>...</td>\n",
       "      <td>...</td>\n",
       "      <td>...</td>\n",
       "      <td>...</td>\n",
       "      <td>...</td>\n",
       "      <td>...</td>\n",
       "      <td>...</td>\n",
       "      <td>...</td>\n",
       "    </tr>\n",
       "    <tr>\n",
       "      <th>696</th>\n",
       "      <td>2/26/2021</td>\n",
       "      <td>New Orleans</td>\n",
       "      <td>Louisiana</td>\n",
       "      <td>HS</td>\n",
       "      <td>1</td>\n",
       "      <td>0</td>\n",
       "      <td>A New Orleans Police officer was shot and kill...</td>\n",
       "      <td>NaN</td>\n",
       "    </tr>\n",
       "    <tr>\n",
       "      <th>697</th>\n",
       "      <td>3/1/2021</td>\n",
       "      <td>Pine Bluff</td>\n",
       "      <td>Arkansas</td>\n",
       "      <td>MS</td>\n",
       "      <td>1</td>\n",
       "      <td>0</td>\n",
       "      <td>A 15-year-old student was killed in a targeted...</td>\n",
       "      <td>NaN</td>\n",
       "    </tr>\n",
       "    <tr>\n",
       "      <th>698</th>\n",
       "      <td>4/12/2021</td>\n",
       "      <td>Knoxville</td>\n",
       "      <td>Tennessee</td>\n",
       "      <td>HS</td>\n",
       "      <td>1</td>\n",
       "      <td>1</td>\n",
       "      <td>A student armed with a handgun was shot and ki...</td>\n",
       "      <td>NaN</td>\n",
       "    </tr>\n",
       "    <tr>\n",
       "      <th>699</th>\n",
       "      <td>4/26/2021</td>\n",
       "      <td>Plymouth</td>\n",
       "      <td>Minnesota</td>\n",
       "      <td>MS</td>\n",
       "      <td>0</td>\n",
       "      <td>0</td>\n",
       "      <td>An unidentified 6th-grade student fired severa...</td>\n",
       "      <td>NaN</td>\n",
       "    </tr>\n",
       "    <tr>\n",
       "      <th>700</th>\n",
       "      <td>5/6/2021</td>\n",
       "      <td>Rigby</td>\n",
       "      <td>Idaho</td>\n",
       "      <td>MS</td>\n",
       "      <td>0</td>\n",
       "      <td>3</td>\n",
       "      <td>Two students and one custodian were shot and w...</td>\n",
       "      <td>NaN</td>\n",
       "    </tr>\n",
       "  </tbody>\n",
       "</table>\n",
       "<p>700 rows × 8 columns</p>\n",
       "</div>"
      ],
      "text/plain": [
       "          Date         City      State School Fatalities Wounded  \\\n",
       "0    3/27/1990     Brooklyn   New York      C          0       1   \n",
       "1    5/20/1990  Centerville  Tennessee     HS          1     NaN   \n",
       "2    8/26/1990    Las Vegas     Nevada     HS          1     NaN   \n",
       "3    9/11/1990  San Antonio      Texas     HS          0       3   \n",
       "4     1/8/1991   Richardson      Texas     HS          0     NaN   \n",
       "..         ...          ...        ...    ...        ...     ...   \n",
       "696  2/26/2021  New Orleans  Louisiana     HS          1       0   \n",
       "697   3/1/2021   Pine Bluff   Arkansas     MS          1       0   \n",
       "698  4/12/2021    Knoxville  Tennessee     HS          1       1   \n",
       "699  4/26/2021     Plymouth  Minnesota     MS          0       0   \n",
       "700   5/6/2021        Rigby      Idaho     MS          0       3   \n",
       "\n",
       "                                                  Desc  AreaType  \n",
       "0    A black youth was taunted with racial slurs by...       NaN  \n",
       "1                                                  NaN  suburban  \n",
       "2                                                  NaN     urban  \n",
       "3    3 students were wounded when gunfire broke out...       NaN  \n",
       "4                                                  NaN     urban  \n",
       "..                                                 ...       ...  \n",
       "696  A New Orleans Police officer was shot and kill...       NaN  \n",
       "697  A 15-year-old student was killed in a targeted...       NaN  \n",
       "698  A student armed with a handgun was shot and ki...       NaN  \n",
       "699  An unidentified 6th-grade student fired severa...       NaN  \n",
       "700  Two students and one custodian were shot and w...       NaN  \n",
       "\n",
       "[700 rows x 8 columns]"
      ]
     },
     "execution_count": 26,
     "metadata": {},
     "output_type": "execute_result"
    }
   ],
   "source": [
    "data"
   ]
  },
  {
   "cell_type": "code",
   "execution_count": 27,
   "metadata": {},
   "outputs": [],
   "source": [
    "data['School'] = data['School'].replace(['C'],'College')\n",
    "data['School'] = data['School'].replace(['HS'],'High School')\n",
    "data['School'] = data['School'].replace(['MS'],'Middle School')\n",
    "data['School'] = data['School'].replace(['ES'],'Elementary School')\n",
    "#df = df.rename(columns = {'Date':'Year'})\n",
    "#df['year'] = pd.DatetimeIndex(df['Year']).year\n",
    "#del df['Year']\n",
    "#df = df.rename(columns = {'year':'Year'})"
   ]
  },
  {
   "cell_type": "code",
   "execution_count": 28,
   "metadata": {},
   "outputs": [
    {
     "data": {
      "text/html": [
       "<div>\n",
       "<style scoped>\n",
       "    .dataframe tbody tr th:only-of-type {\n",
       "        vertical-align: middle;\n",
       "    }\n",
       "\n",
       "    .dataframe tbody tr th {\n",
       "        vertical-align: top;\n",
       "    }\n",
       "\n",
       "    .dataframe thead th {\n",
       "        text-align: right;\n",
       "    }\n",
       "</style>\n",
       "<table border=\"1\" class=\"dataframe\">\n",
       "  <thead>\n",
       "    <tr style=\"text-align: right;\">\n",
       "      <th></th>\n",
       "      <th>Date</th>\n",
       "      <th>City</th>\n",
       "      <th>State</th>\n",
       "      <th>School</th>\n",
       "      <th>Fatalities</th>\n",
       "      <th>Wounded</th>\n",
       "      <th>Desc</th>\n",
       "      <th>AreaType</th>\n",
       "    </tr>\n",
       "  </thead>\n",
       "  <tbody>\n",
       "    <tr>\n",
       "      <th>0</th>\n",
       "      <td>3/27/1990</td>\n",
       "      <td>Brooklyn</td>\n",
       "      <td>New York</td>\n",
       "      <td>College</td>\n",
       "      <td>0</td>\n",
       "      <td>1</td>\n",
       "      <td>A black youth was taunted with racial slurs by...</td>\n",
       "      <td>NaN</td>\n",
       "    </tr>\n",
       "    <tr>\n",
       "      <th>1</th>\n",
       "      <td>5/20/1990</td>\n",
       "      <td>Centerville</td>\n",
       "      <td>Tennessee</td>\n",
       "      <td>High School</td>\n",
       "      <td>1</td>\n",
       "      <td>NaN</td>\n",
       "      <td>NaN</td>\n",
       "      <td>suburban</td>\n",
       "    </tr>\n",
       "    <tr>\n",
       "      <th>2</th>\n",
       "      <td>8/26/1990</td>\n",
       "      <td>Las Vegas</td>\n",
       "      <td>Nevada</td>\n",
       "      <td>High School</td>\n",
       "      <td>1</td>\n",
       "      <td>NaN</td>\n",
       "      <td>NaN</td>\n",
       "      <td>urban</td>\n",
       "    </tr>\n",
       "    <tr>\n",
       "      <th>3</th>\n",
       "      <td>9/11/1990</td>\n",
       "      <td>San Antonio</td>\n",
       "      <td>Texas</td>\n",
       "      <td>High School</td>\n",
       "      <td>0</td>\n",
       "      <td>3</td>\n",
       "      <td>3 students were wounded when gunfire broke out...</td>\n",
       "      <td>NaN</td>\n",
       "    </tr>\n",
       "    <tr>\n",
       "      <th>4</th>\n",
       "      <td>1/8/1991</td>\n",
       "      <td>Richardson</td>\n",
       "      <td>Texas</td>\n",
       "      <td>High School</td>\n",
       "      <td>0</td>\n",
       "      <td>NaN</td>\n",
       "      <td>NaN</td>\n",
       "      <td>urban</td>\n",
       "    </tr>\n",
       "    <tr>\n",
       "      <th>...</th>\n",
       "      <td>...</td>\n",
       "      <td>...</td>\n",
       "      <td>...</td>\n",
       "      <td>...</td>\n",
       "      <td>...</td>\n",
       "      <td>...</td>\n",
       "      <td>...</td>\n",
       "      <td>...</td>\n",
       "    </tr>\n",
       "    <tr>\n",
       "      <th>696</th>\n",
       "      <td>2/26/2021</td>\n",
       "      <td>New Orleans</td>\n",
       "      <td>Louisiana</td>\n",
       "      <td>High School</td>\n",
       "      <td>1</td>\n",
       "      <td>0</td>\n",
       "      <td>A New Orleans Police officer was shot and kill...</td>\n",
       "      <td>NaN</td>\n",
       "    </tr>\n",
       "    <tr>\n",
       "      <th>697</th>\n",
       "      <td>3/1/2021</td>\n",
       "      <td>Pine Bluff</td>\n",
       "      <td>Arkansas</td>\n",
       "      <td>Middle School</td>\n",
       "      <td>1</td>\n",
       "      <td>0</td>\n",
       "      <td>A 15-year-old student was killed in a targeted...</td>\n",
       "      <td>NaN</td>\n",
       "    </tr>\n",
       "    <tr>\n",
       "      <th>698</th>\n",
       "      <td>4/12/2021</td>\n",
       "      <td>Knoxville</td>\n",
       "      <td>Tennessee</td>\n",
       "      <td>High School</td>\n",
       "      <td>1</td>\n",
       "      <td>1</td>\n",
       "      <td>A student armed with a handgun was shot and ki...</td>\n",
       "      <td>NaN</td>\n",
       "    </tr>\n",
       "    <tr>\n",
       "      <th>699</th>\n",
       "      <td>4/26/2021</td>\n",
       "      <td>Plymouth</td>\n",
       "      <td>Minnesota</td>\n",
       "      <td>Middle School</td>\n",
       "      <td>0</td>\n",
       "      <td>0</td>\n",
       "      <td>An unidentified 6th-grade student fired severa...</td>\n",
       "      <td>NaN</td>\n",
       "    </tr>\n",
       "    <tr>\n",
       "      <th>700</th>\n",
       "      <td>5/6/2021</td>\n",
       "      <td>Rigby</td>\n",
       "      <td>Idaho</td>\n",
       "      <td>Middle School</td>\n",
       "      <td>0</td>\n",
       "      <td>3</td>\n",
       "      <td>Two students and one custodian were shot and w...</td>\n",
       "      <td>NaN</td>\n",
       "    </tr>\n",
       "  </tbody>\n",
       "</table>\n",
       "<p>700 rows × 8 columns</p>\n",
       "</div>"
      ],
      "text/plain": [
       "          Date         City      State         School Fatalities Wounded  \\\n",
       "0    3/27/1990     Brooklyn   New York        College          0       1   \n",
       "1    5/20/1990  Centerville  Tennessee    High School          1     NaN   \n",
       "2    8/26/1990    Las Vegas     Nevada    High School          1     NaN   \n",
       "3    9/11/1990  San Antonio      Texas    High School          0       3   \n",
       "4     1/8/1991   Richardson      Texas    High School          0     NaN   \n",
       "..         ...          ...        ...            ...        ...     ...   \n",
       "696  2/26/2021  New Orleans  Louisiana    High School          1       0   \n",
       "697   3/1/2021   Pine Bluff   Arkansas  Middle School          1       0   \n",
       "698  4/12/2021    Knoxville  Tennessee    High School          1       1   \n",
       "699  4/26/2021     Plymouth  Minnesota  Middle School          0       0   \n",
       "700   5/6/2021        Rigby      Idaho  Middle School          0       3   \n",
       "\n",
       "                                                  Desc  AreaType  \n",
       "0    A black youth was taunted with racial slurs by...       NaN  \n",
       "1                                                  NaN  suburban  \n",
       "2                                                  NaN     urban  \n",
       "3    3 students were wounded when gunfire broke out...       NaN  \n",
       "4                                                  NaN     urban  \n",
       "..                                                 ...       ...  \n",
       "696  A New Orleans Police officer was shot and kill...       NaN  \n",
       "697  A 15-year-old student was killed in a targeted...       NaN  \n",
       "698  A student armed with a handgun was shot and ki...       NaN  \n",
       "699  An unidentified 6th-grade student fired severa...       NaN  \n",
       "700  Two students and one custodian were shot and w...       NaN  \n",
       "\n",
       "[700 rows x 8 columns]"
      ]
     },
     "execution_count": 28,
     "metadata": {},
     "output_type": "execute_result"
    }
   ],
   "source": [
    "data"
   ]
  },
  {
   "cell_type": "code",
   "execution_count": 29,
   "metadata": {},
   "outputs": [
    {
     "data": {
      "text/html": [
       "<div>\n",
       "<style scoped>\n",
       "    .dataframe tbody tr th:only-of-type {\n",
       "        vertical-align: middle;\n",
       "    }\n",
       "\n",
       "    .dataframe tbody tr th {\n",
       "        vertical-align: top;\n",
       "    }\n",
       "\n",
       "    .dataframe thead th {\n",
       "        text-align: right;\n",
       "    }\n",
       "</style>\n",
       "<table border=\"1\" class=\"dataframe\">\n",
       "  <thead>\n",
       "    <tr style=\"text-align: right;\">\n",
       "      <th></th>\n",
       "      <th>Date</th>\n",
       "      <th>City</th>\n",
       "      <th>State</th>\n",
       "      <th>School</th>\n",
       "      <th>Fatalities</th>\n",
       "      <th>Wounded</th>\n",
       "      <th>Desc</th>\n",
       "      <th>AreaType</th>\n",
       "    </tr>\n",
       "  </thead>\n",
       "  <tbody>\n",
       "    <tr>\n",
       "      <th>0</th>\n",
       "      <td>3/27/1990</td>\n",
       "      <td>Brooklyn</td>\n",
       "      <td>New York</td>\n",
       "      <td>College</td>\n",
       "      <td>0</td>\n",
       "      <td>1</td>\n",
       "      <td>A black youth was taunted with racial slurs by...</td>\n",
       "      <td>0</td>\n",
       "    </tr>\n",
       "    <tr>\n",
       "      <th>1</th>\n",
       "      <td>5/20/1990</td>\n",
       "      <td>Centerville</td>\n",
       "      <td>Tennessee</td>\n",
       "      <td>High School</td>\n",
       "      <td>1</td>\n",
       "      <td>0</td>\n",
       "      <td>0</td>\n",
       "      <td>suburban</td>\n",
       "    </tr>\n",
       "    <tr>\n",
       "      <th>2</th>\n",
       "      <td>8/26/1990</td>\n",
       "      <td>Las Vegas</td>\n",
       "      <td>Nevada</td>\n",
       "      <td>High School</td>\n",
       "      <td>1</td>\n",
       "      <td>0</td>\n",
       "      <td>0</td>\n",
       "      <td>urban</td>\n",
       "    </tr>\n",
       "    <tr>\n",
       "      <th>3</th>\n",
       "      <td>9/11/1990</td>\n",
       "      <td>San Antonio</td>\n",
       "      <td>Texas</td>\n",
       "      <td>High School</td>\n",
       "      <td>0</td>\n",
       "      <td>3</td>\n",
       "      <td>3 students were wounded when gunfire broke out...</td>\n",
       "      <td>0</td>\n",
       "    </tr>\n",
       "    <tr>\n",
       "      <th>4</th>\n",
       "      <td>1/8/1991</td>\n",
       "      <td>Richardson</td>\n",
       "      <td>Texas</td>\n",
       "      <td>High School</td>\n",
       "      <td>0</td>\n",
       "      <td>0</td>\n",
       "      <td>0</td>\n",
       "      <td>urban</td>\n",
       "    </tr>\n",
       "    <tr>\n",
       "      <th>...</th>\n",
       "      <td>...</td>\n",
       "      <td>...</td>\n",
       "      <td>...</td>\n",
       "      <td>...</td>\n",
       "      <td>...</td>\n",
       "      <td>...</td>\n",
       "      <td>...</td>\n",
       "      <td>...</td>\n",
       "    </tr>\n",
       "    <tr>\n",
       "      <th>696</th>\n",
       "      <td>2/26/2021</td>\n",
       "      <td>New Orleans</td>\n",
       "      <td>Louisiana</td>\n",
       "      <td>High School</td>\n",
       "      <td>1</td>\n",
       "      <td>0</td>\n",
       "      <td>A New Orleans Police officer was shot and kill...</td>\n",
       "      <td>0</td>\n",
       "    </tr>\n",
       "    <tr>\n",
       "      <th>697</th>\n",
       "      <td>3/1/2021</td>\n",
       "      <td>Pine Bluff</td>\n",
       "      <td>Arkansas</td>\n",
       "      <td>Middle School</td>\n",
       "      <td>1</td>\n",
       "      <td>0</td>\n",
       "      <td>A 15-year-old student was killed in a targeted...</td>\n",
       "      <td>0</td>\n",
       "    </tr>\n",
       "    <tr>\n",
       "      <th>698</th>\n",
       "      <td>4/12/2021</td>\n",
       "      <td>Knoxville</td>\n",
       "      <td>Tennessee</td>\n",
       "      <td>High School</td>\n",
       "      <td>1</td>\n",
       "      <td>1</td>\n",
       "      <td>A student armed with a handgun was shot and ki...</td>\n",
       "      <td>0</td>\n",
       "    </tr>\n",
       "    <tr>\n",
       "      <th>699</th>\n",
       "      <td>4/26/2021</td>\n",
       "      <td>Plymouth</td>\n",
       "      <td>Minnesota</td>\n",
       "      <td>Middle School</td>\n",
       "      <td>0</td>\n",
       "      <td>0</td>\n",
       "      <td>An unidentified 6th-grade student fired severa...</td>\n",
       "      <td>0</td>\n",
       "    </tr>\n",
       "    <tr>\n",
       "      <th>700</th>\n",
       "      <td>5/6/2021</td>\n",
       "      <td>Rigby</td>\n",
       "      <td>Idaho</td>\n",
       "      <td>Middle School</td>\n",
       "      <td>0</td>\n",
       "      <td>3</td>\n",
       "      <td>Two students and one custodian were shot and w...</td>\n",
       "      <td>0</td>\n",
       "    </tr>\n",
       "  </tbody>\n",
       "</table>\n",
       "<p>700 rows × 8 columns</p>\n",
       "</div>"
      ],
      "text/plain": [
       "          Date         City      State         School Fatalities Wounded  \\\n",
       "0    3/27/1990     Brooklyn   New York        College          0       1   \n",
       "1    5/20/1990  Centerville  Tennessee    High School          1       0   \n",
       "2    8/26/1990    Las Vegas     Nevada    High School          1       0   \n",
       "3    9/11/1990  San Antonio      Texas    High School          0       3   \n",
       "4     1/8/1991   Richardson      Texas    High School          0       0   \n",
       "..         ...          ...        ...            ...        ...     ...   \n",
       "696  2/26/2021  New Orleans  Louisiana    High School          1       0   \n",
       "697   3/1/2021   Pine Bluff   Arkansas  Middle School          1       0   \n",
       "698  4/12/2021    Knoxville  Tennessee    High School          1       1   \n",
       "699  4/26/2021     Plymouth  Minnesota  Middle School          0       0   \n",
       "700   5/6/2021        Rigby      Idaho  Middle School          0       3   \n",
       "\n",
       "                                                  Desc  AreaType  \n",
       "0    A black youth was taunted with racial slurs by...         0  \n",
       "1                                                    0  suburban  \n",
       "2                                                    0     urban  \n",
       "3    3 students were wounded when gunfire broke out...         0  \n",
       "4                                                    0     urban  \n",
       "..                                                 ...       ...  \n",
       "696  A New Orleans Police officer was shot and kill...         0  \n",
       "697  A 15-year-old student was killed in a targeted...         0  \n",
       "698  A student armed with a handgun was shot and ki...         0  \n",
       "699  An unidentified 6th-grade student fired severa...         0  \n",
       "700  Two students and one custodian were shot and w...         0  \n",
       "\n",
       "[700 rows x 8 columns]"
      ]
     },
     "execution_count": 29,
     "metadata": {},
     "output_type": "execute_result"
    }
   ],
   "source": [
    "dataclean_1 = data.fillna(\"0\")\n",
    "dataclean_1"
   ]
  },
  {
   "cell_type": "code",
   "execution_count": 30,
   "metadata": {},
   "outputs": [],
   "source": [
    "dataclean_1.to_csv(\"overalldata_cleaned.csv\", index=False, header=True)"
   ]
  },
  {
   "cell_type": "code",
   "execution_count": null,
   "metadata": {},
   "outputs": [],
   "source": [
    "college = ['College']\n",
    "heatmap_college = dfclean_1.loc[df['School'].isin(college)]\n",
    "heatmap_college"
   ]
  },
  {
   "cell_type": "code",
   "execution_count": null,
   "metadata": {},
   "outputs": [],
   "source": [
    "collegeperstate = heatmap_college['State'].value_counts()\n",
    "collegeperstate"
   ]
  },
  {
   "cell_type": "code",
   "execution_count": null,
   "metadata": {},
   "outputs": [],
   "source": [
    "college_df = pd.DataFrame({\"College Number of Shootings\": collegeperstate})\n",
    "college_df.index.name = 'State'\n",
    "college_df"
   ]
  },
  {
   "cell_type": "code",
   "execution_count": null,
   "metadata": {},
   "outputs": [],
   "source": [
    "highschool = ['High School']\n",
    "heatmap_hs = dfclean_1.loc[df['School'].isin(highschool)]\n",
    "heatmap_hs"
   ]
  },
  {
   "cell_type": "code",
   "execution_count": null,
   "metadata": {},
   "outputs": [],
   "source": [
    "highschoolperstate = heatmap_hs['State'].value_counts()\n",
    "highschoolperstate"
   ]
  },
  {
   "cell_type": "code",
   "execution_count": null,
   "metadata": {},
   "outputs": [],
   "source": [
    "highschool_df = pd.DataFrame({\"High School Number of Shootings\": highschoolperstate})\n",
    "highschool_df.index.name = 'State'\n",
    "highschool_df"
   ]
  },
  {
   "cell_type": "code",
   "execution_count": null,
   "metadata": {},
   "outputs": [],
   "source": [
    "middleschool = ['Middle School']\n",
    "heatmap_ms = dfclean_1.loc[df['School'].isin(middleschool)]\n",
    "heatmap_ms"
   ]
  },
  {
   "cell_type": "code",
   "execution_count": null,
   "metadata": {},
   "outputs": [],
   "source": [
    "middleschoolperstate = heatmap_ms['State'].value_counts()\n",
    "middleschoolperstate"
   ]
  },
  {
   "cell_type": "code",
   "execution_count": null,
   "metadata": {},
   "outputs": [],
   "source": [
    "middleschool_df = pd.DataFrame({\"Middle School Number of Shootings\": middleschoolperstate})\n",
    "middleschool_df.index.name = 'State'\n",
    "middleschool_df"
   ]
  },
  {
   "cell_type": "code",
   "execution_count": null,
   "metadata": {},
   "outputs": [],
   "source": [
    "elementaryschool = ['Elementary School']\n",
    "heatmap_es = dfclean_1.loc[df['School'].isin(elementaryschool)]\n",
    "heatmap_es"
   ]
  },
  {
   "cell_type": "code",
   "execution_count": null,
   "metadata": {},
   "outputs": [],
   "source": [
    "elementaryschoolperstate = heatmap_es['State'].value_counts()\n",
    "elementaryschoolperstate"
   ]
  },
  {
   "cell_type": "code",
   "execution_count": null,
   "metadata": {},
   "outputs": [],
   "source": [
    "elementaryschool_df = pd.DataFrame({\"Elementary School Number of Shootings\": elementaryschoolperstate})\n",
    "elementaryschool_df.index.name = 'State'\n",
    "elementaryschool_df"
   ]
  },
  {
   "cell_type": "code",
   "execution_count": null,
   "metadata": {},
   "outputs": [],
   "source": [
    "chs_merge = college_df.merge(highschool_df, on='State', how='left')\n",
    "chs_merge"
   ]
  },
  {
   "cell_type": "code",
   "execution_count": null,
   "metadata": {},
   "outputs": [],
   "source": [
    "chsms_merge = chs_merge.merge(middleschool_df, on='State', how='left')\n",
    "chsms_merge"
   ]
  },
  {
   "cell_type": "code",
   "execution_count": null,
   "metadata": {},
   "outputs": [],
   "source": [
    "heatmap_schools = chsms_merge.merge(elementaryschool_df, on='State', how='left')\n",
    "heatmap_schools"
   ]
  },
  {
   "cell_type": "code",
   "execution_count": null,
   "metadata": {},
   "outputs": [],
   "source": [
    "heatmap_schools_1 = heatmap_schools.fillna(\"No Info\")\n",
    "heatmap_schools_1"
   ]
  },
  {
   "cell_type": "code",
   "execution_count": null,
   "metadata": {},
   "outputs": [],
   "source": [
    "heatmap_schools_1.to_csv(\"heatmapschools_frequencyofshootings.csv\", index=True, header=True)"
   ]
  },
  {
   "cell_type": "code",
   "execution_count": null,
   "metadata": {},
   "outputs": [],
   "source": [
    "dfclean_1['Year'] = pd.DatetimeIndex(dfclean_1['Date']).year\n",
    "dfclean_1"
   ]
  },
  {
   "cell_type": "code",
   "execution_count": null,
   "metadata": {},
   "outputs": [],
   "source": [
    "organized_heatmapcasualties = dfclean_1[[\"Date\",\"Year\",\"City\",\"State\",\"AreaType\",\"School\",\"Fatalities\",\"Wounded\",\"Desc\"]]\n",
    "organized_heatmapcasualties.head()"
   ]
  },
  {
   "cell_type": "code",
   "execution_count": null,
   "metadata": {},
   "outputs": [],
   "source": [
    "del organized_heatmapcasualties['Year']\n",
    "del organized_heatmapcasualties['AreaType']\n",
    "del organized_heatmapcasualties['School']\n",
    "del organized_heatmapcasualties['Desc']\n",
    "organized_heatmapcasualties"
   ]
  },
  {
   "cell_type": "code",
   "execution_count": null,
   "metadata": {},
   "outputs": [],
   "source": [
    "organized_heatmapcasualties.to_csv(\"heatmap_casualties.csv\", index=False, header=True)"
   ]
  },
  {
   "cell_type": "code",
   "execution_count": null,
   "metadata": {},
   "outputs": [],
   "source": [
    "shootingsperyear = dfclean_1['Year'].value_counts()\n",
    "shootingsperyear"
   ]
  },
  {
   "cell_type": "code",
   "execution_count": null,
   "metadata": {},
   "outputs": [],
   "source": [
    "totalshootingsperyear_df = pd.DataFrame({\"Number of Shootings\": shootingsperyear})\n",
    "totalshootingsperyear_df.index.name = 'Year'\n",
    "totalshootingsperyear_df"
   ]
  },
  {
   "cell_type": "code",
   "execution_count": null,
   "metadata": {},
   "outputs": [],
   "source": [
    "formatted_df = totalshootingsperyear_df.index.name.dt.strftime(\"%y\")"
   ]
  },
  {
   "cell_type": "code",
   "execution_count": null,
   "metadata": {},
   "outputs": [],
   "source": []
  }
 ],
 "metadata": {
  "kernelspec": {
   "display_name": "Python 3",
   "language": "python",
   "name": "python3"
  },
  "language_info": {
   "codemirror_mode": {
    "name": "ipython",
    "version": 3
   },
   "file_extension": ".py",
   "mimetype": "text/x-python",
   "name": "python",
   "nbconvert_exporter": "python",
   "pygments_lexer": "ipython3",
   "version": "3.8.5"
  }
 },
 "nbformat": 4,
 "nbformat_minor": 4
}
